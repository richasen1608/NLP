{
  "nbformat": 4,
  "nbformat_minor": 0,
  "metadata": {
    "colab": {
      "provenance": []
    },
    "kernelspec": {
      "name": "python3",
      "display_name": "Python 3"
    },
    "language_info": {
      "name": "python"
    }
  },
  "cells": [
    {
      "cell_type": "code",
      "execution_count": null,
      "metadata": {
        "id": "L38btX8_muzS"
      },
      "outputs": [],
      "source": [
        "document=\"Gensim is a Python library for topic modeling and other NLP tasks.\",\n",
        "\n",
        "corpus=[\"Gensim is a Python library for topic modeling and other NLP tasks\",\"I love to eat Pizza\",\"Richa loves reading novels\",\"India is one of the top ranking team in Cricket\"]\n",
        "stoplist=set('a for and to is of the in'.split(' '))\n",
        "processed_corpus=[[word for word in document.lower().split()if word not in stoplist]\n",
        "for document in corpus]\n"
      ]
    },
    {
      "cell_type": "code",
      "source": [
        "import pprint\n",
        "pprint.pprint(processed_corpus)"
      ],
      "metadata": {
        "colab": {
          "base_uri": "https://localhost:8080/"
        },
        "id": "aWIgSud8rQDr",
        "outputId": "acf106fe-43fc-41d4-babd-3a91a666f8dc"
      },
      "execution_count": null,
      "outputs": [
        {
          "output_type": "stream",
          "name": "stdout",
          "text": [
            "[['gensim', 'python', 'library', 'topic', 'modeling', 'other', 'nlp', 'tasks'],\n",
            " ['i', 'love', 'eat', 'pizza'],\n",
            " ['richa', 'loves', 'reading', 'novels'],\n",
            " ['india', 'one', 'top', 'ranking', 'team', 'cricket']]\n"
          ]
        }
      ]
    },
    {
      "cell_type": "code",
      "source": [
        "import gensim\n",
        "corpus=\"\"\"'Gensim is a Python library for topic modeling and other NLP tasks\",\"I love to eat Pizza\",\"Richa loves reading novels\",\"India is one of the top ranking team in Cricket'\"\"\"\n",
        "gensim.utils.simple_preprocess(corpus, deacc=False,min_len=2,max_len=15)"
      ],
      "metadata": {
        "colab": {
          "base_uri": "https://localhost:8080/"
        },
        "id": "QrlgdtcQrqSc",
        "outputId": "1a788886-0e2b-4226-d66b-29d48b96f5df"
      },
      "execution_count": null,
      "outputs": [
        {
          "output_type": "execute_result",
          "data": {
            "text/plain": [
              "['gensim',\n",
              " 'is',\n",
              " 'python',\n",
              " 'library',\n",
              " 'for',\n",
              " 'topic',\n",
              " 'modeling',\n",
              " 'and',\n",
              " 'other',\n",
              " 'nlp',\n",
              " 'tasks',\n",
              " 'love',\n",
              " 'to',\n",
              " 'eat',\n",
              " 'pizza',\n",
              " 'richa',\n",
              " 'loves',\n",
              " 'reading',\n",
              " 'novels',\n",
              " 'india',\n",
              " 'is',\n",
              " 'one',\n",
              " 'of',\n",
              " 'the',\n",
              " 'top',\n",
              " 'ranking',\n",
              " 'team',\n",
              " 'in',\n",
              " 'cricket']"
            ]
          },
          "metadata": {},
          "execution_count": 3
        }
      ]
    },
    {
      "cell_type": "code",
      "source": [
        "from gensim import corpora\n",
        "dictionary=corpora.Dictionary(processed_corpus)\n",
        "print(dictionary)"
      ],
      "metadata": {
        "colab": {
          "base_uri": "https://localhost:8080/"
        },
        "id": "rQdpOyoystpI",
        "outputId": "0922c2ac-4c28-4a26-ae39-f31e8d6b2a28"
      },
      "execution_count": null,
      "outputs": [
        {
          "output_type": "stream",
          "name": "stdout",
          "text": [
            "Dictionary<22 unique tokens: ['gensim', 'library', 'modeling', 'nlp', 'other']...>\n"
          ]
        }
      ]
    },
    {
      "cell_type": "code",
      "source": [
        "pprint.pprint(dictionary.token2id)"
      ],
      "metadata": {
        "colab": {
          "base_uri": "https://localhost:8080/"
        },
        "id": "A9s2R8RatEJy",
        "outputId": "7e98e8b3-c2f5-4f3e-c543-8c81d9e810a2"
      },
      "execution_count": null,
      "outputs": [
        {
          "output_type": "stream",
          "name": "stdout",
          "text": [
            "{'cricket': 16,\n",
            " 'eat': 8,\n",
            " 'gensim': 0,\n",
            " 'i': 9,\n",
            " 'india': 17,\n",
            " 'library': 1,\n",
            " 'love': 10,\n",
            " 'loves': 12,\n",
            " 'modeling': 2,\n",
            " 'nlp': 3,\n",
            " 'novels': 13,\n",
            " 'one': 18,\n",
            " 'other': 4,\n",
            " 'pizza': 11,\n",
            " 'python': 5,\n",
            " 'ranking': 19,\n",
            " 'reading': 14,\n",
            " 'richa': 15,\n",
            " 'tasks': 6,\n",
            " 'team': 20,\n",
            " 'top': 21,\n",
            " 'topic': 7}\n"
          ]
        }
      ]
    },
    {
      "cell_type": "code",
      "source": [
        "processed_corpus"
      ],
      "metadata": {
        "colab": {
          "base_uri": "https://localhost:8080/"
        },
        "id": "TXxwFDyFtPNa",
        "outputId": "f32e0b73-57e1-42e7-afce-a98274b4638c"
      },
      "execution_count": null,
      "outputs": [
        {
          "output_type": "execute_result",
          "data": {
            "text/plain": [
              "[['gensim', 'python', 'library', 'topic', 'modeling', 'other', 'nlp', 'tasks'],\n",
              " ['i', 'love', 'eat', 'pizza'],\n",
              " ['richa', 'loves', 'reading', 'novels'],\n",
              " ['india', 'one', 'top', 'ranking', 'team', 'cricket']]"
            ]
          },
          "metadata": {},
          "execution_count": 6
        }
      ]
    },
    {
      "cell_type": "code",
      "source": [
        "BoW_corpus=[dictionary.doc2bow(text) for text in processed_corpus]\n",
        "pprint.pprint(BoW_corpus)"
      ],
      "metadata": {
        "colab": {
          "base_uri": "https://localhost:8080/"
        },
        "id": "zgHh3EKXtTLp",
        "outputId": "5ba7a743-7af6-4daf-aea5-13806c4192c2"
      },
      "execution_count": null,
      "outputs": [
        {
          "output_type": "stream",
          "name": "stdout",
          "text": [
            "[[(0, 1), (1, 1), (2, 1), (3, 1), (4, 1), (5, 1), (6, 1), (7, 1)],\n",
            " [(8, 1), (9, 1), (10, 1), (11, 1)],\n",
            " [(12, 1), (13, 1), (14, 1), (15, 1)],\n",
            " [(16, 1), (17, 1), (18, 1), (19, 1), (20, 1), (21, 1)]]\n"
          ]
        }
      ]
    },
    {
      "cell_type": "code",
      "source": [
        "from gensim import models\n",
        "tfidf = models.TfidfModel(BoW_corpus)\n",
        "words=\"love pizza\".lower().split()\n",
        "print(tfidf)\n",
        "print(tfidf[dictionary.doc2bow(words)])"
      ],
      "metadata": {
        "colab": {
          "base_uri": "https://localhost:8080/"
        },
        "id": "Cee9eQdAtrx3",
        "outputId": "24a6ccd8-b9a6-4d81-97a7-01539e1c48f5"
      },
      "execution_count": null,
      "outputs": [
        {
          "output_type": "stream",
          "name": "stdout",
          "text": [
            "TfidfModel<num_docs=4, num_nnz=22>\n",
            "[(10, 0.7071067811865475), (11, 0.7071067811865475)]\n"
          ]
        }
      ]
    },
    {
      "cell_type": "code",
      "source": [],
      "metadata": {
        "id": "l1AnmeI_uV4D"
      },
      "execution_count": null,
      "outputs": []
    }
  ]
}